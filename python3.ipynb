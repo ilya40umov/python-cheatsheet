{
 "cells": [
  {
   "cell_type": "markdown",
   "id": "69e68780",
   "metadata": {},
   "source": [
    "**Note:** this page is only covering bits of the language that I personally find hard to remember."
   ]
  },
  {
   "cell_type": "code",
   "execution_count": 5,
   "id": "597f6bbe",
   "metadata": {},
   "outputs": [
    {
     "data": {
      "text/plain": [
       "['In', 'Out', '_']"
      ]
     },
     "execution_count": 5,
     "metadata": {},
     "output_type": "execute_result"
    }
   ],
   "source": [
    "# get the first three of the names in the current scope (e.g. variables) \n",
    "dir()[:3]"
   ]
  },
  {
   "cell_type": "code",
   "execution_count": 9,
   "id": "4b742c3f",
   "metadata": {},
   "outputs": [
    {
     "data": {
      "text/plain": [
       "['getenv', 'getenvb']"
      ]
     },
     "execution_count": 9,
     "metadata": {},
     "output_type": "execute_result"
    }
   ],
   "source": [
    "import os\n",
    "# get all names from 'os' package that contain 'getenv' in them \n",
    "list(filter(lambda s: 'getenv' in s, dir(os)))"
   ]
  },
  {
   "cell_type": "code",
   "execution_count": 13,
   "id": "71284f54",
   "metadata": {},
   "outputs": [
    {
     "data": {
      "text/plain": [
       "str"
      ]
     },
     "execution_count": 13,
     "metadata": {},
     "output_type": "execute_result"
    }
   ],
   "source": [
    "# get the type of an object\n",
    "type('42')"
   ]
  },
  {
   "cell_type": "code",
   "execution_count": 20,
   "id": "df1ea3d9",
   "metadata": {},
   "outputs": [
    {
     "data": {
      "text/plain": [
       "True"
      ]
     },
     "execution_count": 20,
     "metadata": {},
     "output_type": "execute_result"
    }
   ],
   "source": [
    "# get an attribute value dynamically - there is also 'setattr' to set a value dynamically\n",
    "getattr('42', 'startswith')('4')"
   ]
  },
  {
   "cell_type": "code",
   "execution_count": 29,
   "id": "c7da4616",
   "metadata": {},
   "outputs": [
    {
     "data": {
      "text/plain": [
       "5"
      ]
     },
     "execution_count": 29,
     "metadata": {},
     "output_type": "execute_result"
    }
   ],
   "source": [
    "# using '*' to decompose a list\n",
    "max(*[1, 2, 3, 4, 5])"
   ]
  },
  {
   "cell_type": "code",
   "execution_count": 37,
   "id": "948e0821",
   "metadata": {},
   "outputs": [
    {
     "data": {
      "text/plain": [
       "'magic 42'"
      ]
     },
     "execution_count": 37,
     "metadata": {},
     "output_type": "execute_result"
    }
   ],
   "source": [
    "# using '**' to decompose a dict\n",
    "f1 = lambda k, v = 0: f'{k} {v}'\n",
    "f1(**{'k': 'magic', 'v': 42})"
   ]
  },
  {
   "cell_type": "code",
   "execution_count": 50,
   "id": "1aabfa21",
   "metadata": {},
   "outputs": [
    {
     "data": {
      "text/plain": [
       "[(0, 10), (1, 11), (2, 12), (3, 13), (4, 14)]"
      ]
     },
     "execution_count": 50,
     "metadata": {},
     "output_type": "execute_result"
    }
   ],
   "source": [
    "# Q: how do I flatten a list like this?\n",
    "l1 = list(map(lambda x: (x, x + 10), range(5)))\n",
    "l1"
   ]
  },
  {
   "cell_type": "code",
   "execution_count": 53,
   "id": "d322b347",
   "metadata": {},
   "outputs": [
    {
     "data": {
      "text/plain": [
       "(0, 10, 1, 11, 2, 12, 3, 13, 4, 14)"
      ]
     },
     "execution_count": 53,
     "metadata": {},
     "output_type": "execute_result"
    }
   ],
   "source": [
    "# A: use reduct + concat\n",
    "from functools import reduce\n",
    "import operator\n",
    "\n",
    "reduce(operator.concat, l1)"
   ]
  },
  {
   "cell_type": "code",
   "execution_count": 56,
   "id": "98df7e7d",
   "metadata": {},
   "outputs": [
    {
     "data": {
      "text/plain": [
       "[(0, 1, 2, 3, 4), (10, 11, 12, 13, 14)]"
      ]
     },
     "execution_count": 56,
     "metadata": {},
     "output_type": "execute_result"
    }
   ],
   "source": [
    "# transforming a list of pairs into a pair of lists\n",
    "list(zip(*l1))"
   ]
  },
  {
   "cell_type": "code",
   "execution_count": 67,
   "id": "40100a1e",
   "metadata": {},
   "outputs": [
    {
     "name": "stdout",
     "output_type": "stream",
     "text": [
      "Caught:  Fake problem\n",
      "Performing clean-up.\n"
     ]
    }
   ],
   "source": [
    "# raising and handling an exception\n",
    "try:\n",
    "    raise Exception(\"Fake problem\")\n",
    "except Exception as e:\n",
    "    print(\"Caught: \", e)\n",
    "finally:\n",
    "    print(\"Performing clean-up.\")"
   ]
  },
  {
   "cell_type": "code",
   "execution_count": 71,
   "id": "4de31e49",
   "metadata": {},
   "outputs": [
    {
     "name": "stdout",
     "output_type": "stream",
     "text": [
      "args: (1, 2, 3), kwargs: {'key1': 'val1', 'key2': 'xyz'}\n"
     ]
    }
   ],
   "source": [
    "# passing varargs and variable keyword args\n",
    "def f2(*args, **kwargs):\n",
    "    print(f\"args: {args}, kwargs: {kwargs}\")\n",
    "\n",
    "f2(1, 2, 3, key1='val1', key2='xyz')"
   ]
  },
  {
   "cell_type": "code",
   "execution_count": 75,
   "id": "8662a4bd",
   "metadata": {},
   "outputs": [
    {
     "data": {
      "text/plain": [
       "42"
      ]
     },
     "execution_count": 75,
     "metadata": {},
     "output_type": "execute_result"
    }
   ],
   "source": [
    "# setting the value of a global variable within a function\n",
    "global_x = 1\n",
    "def f3():\n",
    "    global global_x\n",
    "    global_x = 42\n",
    "\n",
    "f3()\n",
    "global_x"
   ]
  },
  {
   "cell_type": "code",
   "execution_count": 80,
   "id": "b5e99afe",
   "metadata": {},
   "outputs": [
    {
     "data": {
      "text/plain": [
       "[0, 1, 2, 0, 1, 2, 0, 1, 2, 0]"
      ]
     },
     "execution_count": 80,
     "metadata": {},
     "output_type": "execute_result"
    }
   ],
   "source": [
    "# list comprehensions \n",
    "[x % 3 for x in range(10)]"
   ]
  },
  {
   "cell_type": "code",
   "execution_count": 82,
   "id": "218ed70c",
   "metadata": {},
   "outputs": [
    {
     "data": {
      "text/plain": [
       "{0, 1, 2}"
      ]
     },
     "execution_count": 82,
     "metadata": {},
     "output_type": "execute_result"
    }
   ],
   "source": [
    "# set comprehensions \n",
    "{x % 3 for x in range(10)}"
   ]
  },
  {
   "cell_type": "code",
   "execution_count": 91,
   "id": "d3dee194",
   "metadata": {},
   "outputs": [
    {
     "data": {
      "text/plain": [
       "{'a': 100, 'b': 200}"
      ]
     },
     "execution_count": 91,
     "metadata": {},
     "output_type": "execute_result"
    }
   ],
   "source": [
    "# dict comprehensions\n",
    "{k: v * 100 for k, v in {'a': 1, 'b': 2}.items()}"
   ]
  }
 ],
 "metadata": {
  "kernelspec": {
   "display_name": "Python 3 (ipykernel)",
   "language": "python",
   "name": "python3"
  },
  "language_info": {
   "codemirror_mode": {
    "name": "ipython",
    "version": 3
   },
   "file_extension": ".py",
   "mimetype": "text/x-python",
   "name": "python",
   "nbconvert_exporter": "python",
   "pygments_lexer": "ipython3",
   "version": "3.8.10"
  }
 },
 "nbformat": 4,
 "nbformat_minor": 5
}
