{
 "cells": [
  {
   "cell_type": "markdown",
   "id": "69e68780",
   "metadata": {},
   "source": [
    "**Disclaimer:** This page is **not** a comprehensive reference. It only covers certain bits that could be hard to remember."
   ]
  },
  {
   "cell_type": "markdown",
   "id": "9b4ae2fc",
   "metadata": {},
   "source": [
    "#### Core"
   ]
  },
  {
   "cell_type": "code",
   "execution_count": 1,
   "id": "61cb90b7",
   "metadata": {},
   "outputs": [
    {
     "data": {
      "text/plain": [
       "str"
      ]
     },
     "execution_count": 1,
     "metadata": {},
     "output_type": "execute_result"
    }
   ],
   "source": [
    "# get the type of an object\n",
    "type('42')"
   ]
  },
  {
   "cell_type": "code",
   "execution_count": 2,
   "id": "f26efaa3",
   "metadata": {},
   "outputs": [
    {
     "data": {
      "text/plain": [
       "True"
      ]
     },
     "execution_count": 2,
     "metadata": {},
     "output_type": "execute_result"
    }
   ],
   "source": [
    "# check if type matches\n",
    "isinstance('42', str)"
   ]
  },
  {
   "cell_type": "code",
   "execution_count": 3,
   "id": "597f6bbe",
   "metadata": {},
   "outputs": [
    {
     "data": {
      "text/plain": [
       "['In', 'Out', '_']"
      ]
     },
     "execution_count": 3,
     "metadata": {},
     "output_type": "execute_result"
    }
   ],
   "source": [
    "# get the first three of the names in the current scope (e.g. variables) \n",
    "dir()[:3]"
   ]
  },
  {
   "cell_type": "code",
   "execution_count": 4,
   "id": "4b742c3f",
   "metadata": {},
   "outputs": [
    {
     "data": {
      "text/plain": [
       "['getenv', 'getenvb']"
      ]
     },
     "execution_count": 4,
     "metadata": {},
     "output_type": "execute_result"
    }
   ],
   "source": [
    "import os\n",
    "# get all names from 'os' package that contain 'getenv' in them \n",
    "list(filter(lambda s: 'getenv' in s, dir(os)))"
   ]
  },
  {
   "cell_type": "code",
   "execution_count": 5,
   "id": "df1ea3d9",
   "metadata": {},
   "outputs": [
    {
     "data": {
      "text/plain": [
       "True"
      ]
     },
     "execution_count": 5,
     "metadata": {},
     "output_type": "execute_result"
    }
   ],
   "source": [
    "# get an attribute value dynamically - there is also 'setattr' to set a value dynamically\n",
    "getattr('42', 'startswith')('4')"
   ]
  },
  {
   "cell_type": "code",
   "execution_count": 6,
   "id": "c7da4616",
   "metadata": {},
   "outputs": [
    {
     "data": {
      "text/plain": [
       "5"
      ]
     },
     "execution_count": 6,
     "metadata": {},
     "output_type": "execute_result"
    }
   ],
   "source": [
    "# using '*' to decompose a list\n",
    "max(*[1, 2, 3, 4, 5])"
   ]
  },
  {
   "cell_type": "code",
   "execution_count": 7,
   "id": "948e0821",
   "metadata": {},
   "outputs": [
    {
     "data": {
      "text/plain": [
       "'magic 42'"
      ]
     },
     "execution_count": 7,
     "metadata": {},
     "output_type": "execute_result"
    }
   ],
   "source": [
    "# using '**' to decompose a dict\n",
    "f1 = lambda k, v = 0: f'{k} {v}'\n",
    "f1(**{'k': 'magic', 'v': 42})"
   ]
  },
  {
   "cell_type": "code",
   "execution_count": 8,
   "id": "1aabfa21",
   "metadata": {},
   "outputs": [
    {
     "data": {
      "text/plain": [
       "[(0, 10), (1, 11), (2, 12), (3, 13), (4, 14)]"
      ]
     },
     "execution_count": 8,
     "metadata": {},
     "output_type": "execute_result"
    }
   ],
   "source": [
    "# Q: how do I flatten a list like this?\n",
    "l1 = list(map(lambda x: (x, x + 10), range(5)))\n",
    "l1"
   ]
  },
  {
   "cell_type": "code",
   "execution_count": 9,
   "id": "d322b347",
   "metadata": {},
   "outputs": [
    {
     "data": {
      "text/plain": [
       "(0, 10, 1, 11, 2, 12, 3, 13, 4, 14)"
      ]
     },
     "execution_count": 9,
     "metadata": {},
     "output_type": "execute_result"
    }
   ],
   "source": [
    "# A: use reduct + concat\n",
    "from functools import reduce\n",
    "import operator\n",
    "\n",
    "reduce(operator.concat, l1)"
   ]
  },
  {
   "cell_type": "code",
   "execution_count": 10,
   "id": "98df7e7d",
   "metadata": {},
   "outputs": [
    {
     "data": {
      "text/plain": [
       "[(0, 1, 2, 3, 4), (10, 11, 12, 13, 14)]"
      ]
     },
     "execution_count": 10,
     "metadata": {},
     "output_type": "execute_result"
    }
   ],
   "source": [
    "# transforming a list of pairs into a pair of lists\n",
    "list(zip(*l1))"
   ]
  },
  {
   "cell_type": "code",
   "execution_count": 11,
   "id": "e7e6c89a",
   "metadata": {},
   "outputs": [
    {
     "data": {
      "text/plain": [
       "b'm\\xc3\\xb6gen'"
      ]
     },
     "execution_count": 11,
     "metadata": {},
     "output_type": "execute_result"
    }
   ],
   "source": [
    "# encode string as a byte array\n",
    "'mögen'.encode('utf-8')"
   ]
  },
  {
   "cell_type": "code",
   "execution_count": 12,
   "id": "3145f49a",
   "metadata": {},
   "outputs": [
    {
     "data": {
      "text/plain": [
       "'mögen'"
      ]
     },
     "execution_count": 12,
     "metadata": {},
     "output_type": "execute_result"
    }
   ],
   "source": [
    "# decode string from a byte array\n",
    "b'm\\xc3\\xb6gen'.decode('utf-8')"
   ]
  },
  {
   "cell_type": "code",
   "execution_count": 13,
   "id": "40100a1e",
   "metadata": {},
   "outputs": [
    {
     "name": "stdout",
     "output_type": "stream",
     "text": [
      "Caught:  Fake problem\n",
      "Performing clean-up.\n"
     ]
    }
   ],
   "source": [
    "# raising and handling an exception\n",
    "try:\n",
    "    raise Exception(\"Fake problem\")\n",
    "except Exception as e:\n",
    "    print(\"Caught: \", e)\n",
    "finally:\n",
    "    print(\"Performing clean-up.\")"
   ]
  },
  {
   "cell_type": "code",
   "execution_count": 14,
   "id": "4de31e49",
   "metadata": {},
   "outputs": [
    {
     "name": "stdout",
     "output_type": "stream",
     "text": [
      "args: (1, 2, 3), kwargs: {'key1': 'val1', 'key2': 'xyz'}\n"
     ]
    }
   ],
   "source": [
    "# passing varargs and variable keyword args\n",
    "def f2(*args, **kwargs):\n",
    "    print(f\"args: {args}, kwargs: {kwargs}\")\n",
    "\n",
    "f2(1, 2, 3, key1='val1', key2='xyz')"
   ]
  },
  {
   "cell_type": "code",
   "execution_count": 15,
   "id": "8662a4bd",
   "metadata": {},
   "outputs": [
    {
     "data": {
      "text/plain": [
       "42"
      ]
     },
     "execution_count": 15,
     "metadata": {},
     "output_type": "execute_result"
    }
   ],
   "source": [
    "# setting the value of a global variable within a function\n",
    "global_x = 1\n",
    "def f3():\n",
    "    global global_x\n",
    "    global_x = 42\n",
    "\n",
    "f3()\n",
    "global_x"
   ]
  },
  {
   "cell_type": "code",
   "execution_count": 16,
   "id": "b5e99afe",
   "metadata": {},
   "outputs": [
    {
     "data": {
      "text/plain": [
       "[0, 1, 2, 0, 1, 2, 0, 1, 2, 0]"
      ]
     },
     "execution_count": 16,
     "metadata": {},
     "output_type": "execute_result"
    }
   ],
   "source": [
    "# list comprehensions \n",
    "[x % 3 for x in range(10)]"
   ]
  },
  {
   "cell_type": "code",
   "execution_count": 17,
   "id": "218ed70c",
   "metadata": {},
   "outputs": [
    {
     "data": {
      "text/plain": [
       "{0, 1, 2}"
      ]
     },
     "execution_count": 17,
     "metadata": {},
     "output_type": "execute_result"
    }
   ],
   "source": [
    "# set comprehensions \n",
    "{x % 3 for x in range(10)}"
   ]
  },
  {
   "cell_type": "code",
   "execution_count": 18,
   "id": "d3dee194",
   "metadata": {},
   "outputs": [
    {
     "data": {
      "text/plain": [
       "{'a': 100, 'b': 200}"
      ]
     },
     "execution_count": 18,
     "metadata": {},
     "output_type": "execute_result"
    }
   ],
   "source": [
    "# dict comprehensions\n",
    "{k: v * 100 for k, v in {'a': 1, 'b': 2}.items()}"
   ]
  },
  {
   "cell_type": "code",
   "execution_count": 19,
   "id": "7f31f550",
   "metadata": {},
   "outputs": [
    {
     "data": {
      "text/plain": [
       "(1, 2, [3, 4, 5])"
      ]
     },
     "execution_count": 19,
     "metadata": {},
     "output_type": "execute_result"
    }
   ],
   "source": [
    "a, b, *rest = [1, 2, 3, 4, 5]\n",
    "(a, b, rest)"
   ]
  },
  {
   "cell_type": "markdown",
   "id": "f8cc7b08",
   "metadata": {},
   "source": [
    "#### Classes"
   ]
  },
  {
   "cell_type": "code",
   "execution_count": 20,
   "id": "dfb04c67",
   "metadata": {},
   "outputs": [
    {
     "name": "stdout",
     "output_type": "stream",
     "text": [
      "value 1\n",
      "static value\n",
      "value 1 value 2\n",
      "static value\n"
     ]
    }
   ],
   "source": [
    "# declaring a class with a constructor / methods of different types\n",
    "class A:\n",
    "    class_attribute_1 = 'value 1'\n",
    "    \n",
    "    def __init__(self, param1='default value'):\n",
    "        self.instance_attribute_1 = param1\n",
    "        self._level = 1\n",
    "    \n",
    "    def tell(self):\n",
    "        return f\"{A.class_attribute_1} {self.instance_attribute_1}\"\n",
    "    \n",
    "    @classmethod\n",
    "    def tell_c(cls):\n",
    "        return cls.class_attribute_1\n",
    "    \n",
    "    @staticmethod\n",
    "    def tell_s():\n",
    "        return 'static value'\n",
    "\n",
    "print(A.tell_c())\n",
    "print(A.tell_s())\n",
    "print(A('value 2').tell())\n",
    "print(A().tell_s())"
   ]
  },
  {
   "cell_type": "code",
   "execution_count": 21,
   "id": "58088937",
   "metadata": {},
   "outputs": [
    {
     "name": "stdout",
     "output_type": "stream",
     "text": [
      "1\n",
      "80\n"
     ]
    }
   ],
   "source": [
    "# creating a class with a property\n",
    "class B:\n",
    "    def __init__(self):\n",
    "        self._level = 1\n",
    "    \n",
    "    @property\n",
    "    def level(self):\n",
    "        return self._level\n",
    "    \n",
    "    @level.setter\n",
    "    def level(self, level):\n",
    "        self._level = level\n",
    "\n",
    "b = B()\n",
    "print(b.level)\n",
    "b.level = 80\n",
    "print(b.level)"
   ]
  },
  {
   "cell_type": "code",
   "execution_count": 22,
   "id": "f9b343cc",
   "metadata": {},
   "outputs": [
    {
     "name": "stdout",
     "output_type": "stream",
     "text": [
      "val1\n",
      "val1 improved\n",
      "val2\n"
     ]
    }
   ],
   "source": [
    "# inheritence\n",
    "\n",
    "class P:\n",
    "    def __init__(self, p1):\n",
    "        self._p1 = p1\n",
    "    \n",
    "    def p1(self):\n",
    "        return self._p1\n",
    "    \n",
    "class C(P):\n",
    "    def __init__(self, p1, p2):\n",
    "        self._p2 = p2\n",
    "        super().__init__(p1)\n",
    "    \n",
    "    def p1(self):\n",
    "        return f\"{super().p1()} improved\"\n",
    "    \n",
    "    def p2(self):\n",
    "        return self._p2\n",
    "    \n",
    "print(P('val1').p1())\n",
    "print(C('val1', 'val2').p1())\n",
    "print(C('val1', 'val2').p2())"
   ]
  },
  {
   "cell_type": "markdown",
   "id": "cf786ef8",
   "metadata": {},
   "source": [
    "#### Generators "
   ]
  },
  {
   "cell_type": "code",
   "execution_count": 23,
   "id": "9a33cba7",
   "metadata": {},
   "outputs": [
    {
     "data": {
      "text/plain": [
       "[1, 2, 3, 5, 7, 11, 13, 17, 19, 23]"
      ]
     },
     "execution_count": 23,
     "metadata": {},
     "output_type": "execute_result"
    }
   ],
   "source": [
    "# prime numbers generator as a function\n",
    "import itertools\n",
    "\n",
    "def prime_gen():\n",
    "    yield 1\n",
    "    primes = set()\n",
    "    for i in range(2, 999999):\n",
    "        divisor_found = False\n",
    "        for p in primes:\n",
    "            if i % p == 0:\n",
    "                divisor_found = True\n",
    "                break\n",
    "        if not divisor_found:\n",
    "            primes.add(i)\n",
    "            yield i\n",
    "\n",
    "list(itertools.islice(prime_gen(), 0, 10))"
   ]
  },
  {
   "cell_type": "code",
   "execution_count": 24,
   "id": "c5e83be2",
   "metadata": {},
   "outputs": [
    {
     "data": {
      "text/plain": [
       "[0, 3, 6, 9, 12, 15, 18, 21, 24, 27]"
      ]
     },
     "execution_count": 24,
     "metadata": {},
     "output_type": "execute_result"
    }
   ],
   "source": [
    "# generator comprehension\n",
    "another_gen = (i for i in range(0, 999999) if i % 3 == 0)\n",
    "\n",
    "list(itertools.islice(another_gen, 0, 10))"
   ]
  },
  {
   "cell_type": "markdown",
   "id": "9b63481f",
   "metadata": {},
   "source": [
    "#### Decorators"
   ]
  },
  {
   "cell_type": "code",
   "execution_count": 25,
   "id": "6b89336b",
   "metadata": {},
   "outputs": [
    {
     "name": "stdout",
     "output_type": "stream",
     "text": [
      "decorator got triggered: ('Zorro',), {}\n",
      "Hi, Zorro\n",
      "decorator got triggered: (), {'name': 'Zorro'}\n",
      "Hi, Zorro\n"
     ]
    }
   ],
   "source": [
    "# writing a decorator to trace calls\n",
    "from functools import wraps\n",
    "\n",
    "def trace(target_func):\n",
    "    @wraps(target_func)\n",
    "    def decorator(*argc, **kwargs):\n",
    "        print(f\"decorator got triggered: {argc}, {kwargs}\")\n",
    "        return target_func(*argc, **kwargs)\n",
    "    \n",
    "    return decorator\n",
    "\n",
    "@trace\n",
    "def say_hi(name):\n",
    "    print(f\"Hi, {name}\")\n",
    "    \n",
    "say_hi('Zorro')\n",
    "say_hi(name='Zorro')"
   ]
  }
 ],
 "metadata": {
  "kernelspec": {
   "display_name": "Python 3 (ipykernel)",
   "language": "python",
   "name": "python3"
  },
  "language_info": {
   "codemirror_mode": {
    "name": "ipython",
    "version": 3
   },
   "file_extension": ".py",
   "mimetype": "text/x-python",
   "name": "python",
   "nbconvert_exporter": "python",
   "pygments_lexer": "ipython3",
   "version": "3.8.10"
  }
 },
 "nbformat": 4,
 "nbformat_minor": 5
}
