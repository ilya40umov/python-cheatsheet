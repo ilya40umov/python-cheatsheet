{
 "cells": [
  {
   "cell_type": "code",
   "execution_count": 1,
   "id": "8e9451d4",
   "metadata": {},
   "outputs": [
    {
     "data": {
      "text/html": [
       "<div>\n",
       "<style scoped>\n",
       "    .dataframe tbody tr th:only-of-type {\n",
       "        vertical-align: middle;\n",
       "    }\n",
       "\n",
       "    .dataframe tbody tr th {\n",
       "        vertical-align: top;\n",
       "    }\n",
       "\n",
       "    .dataframe thead th {\n",
       "        text-align: right;\n",
       "    }\n",
       "</style>\n",
       "<table border=\"1\" class=\"dataframe\">\n",
       "  <thead>\n",
       "    <tr style=\"text-align: right;\">\n",
       "      <th></th>\n",
       "      <th>const</th>\n",
       "      <th>x1</th>\n",
       "      <th>x2</th>\n",
       "    </tr>\n",
       "  </thead>\n",
       "  <tbody>\n",
       "    <tr>\n",
       "      <th>0</th>\n",
       "      <td>1.0</td>\n",
       "      <td>1.063579</td>\n",
       "      <td>2.135532</td>\n",
       "    </tr>\n",
       "    <tr>\n",
       "      <th>1</th>\n",
       "      <td>1.0</td>\n",
       "      <td>1.700945</td>\n",
       "      <td>-0.229976</td>\n",
       "    </tr>\n",
       "    <tr>\n",
       "      <th>2</th>\n",
       "      <td>1.0</td>\n",
       "      <td>1.157407</td>\n",
       "      <td>0.073004</td>\n",
       "    </tr>\n",
       "    <tr>\n",
       "      <th>3</th>\n",
       "      <td>1.0</td>\n",
       "      <td>0.570775</td>\n",
       "      <td>0.734930</td>\n",
       "    </tr>\n",
       "    <tr>\n",
       "      <th>4</th>\n",
       "      <td>1.0</td>\n",
       "      <td>0.866933</td>\n",
       "      <td>-0.927677</td>\n",
       "    </tr>\n",
       "  </tbody>\n",
       "</table>\n",
       "</div>"
      ],
      "text/plain": [
       "   const        x1        x2\n",
       "0    1.0  1.063579  2.135532\n",
       "1    1.0  1.700945 -0.229976\n",
       "2    1.0  1.157407  0.073004\n",
       "3    1.0  0.570775  0.734930\n",
       "4    1.0  0.866933 -0.927677"
      ]
     },
     "execution_count": 1,
     "metadata": {},
     "output_type": "execute_result"
    }
   ],
   "source": [
    "import statsmodels.api as sm\n",
    "import statsmodels.formula.api as smf\n",
    "import numpy as np\n",
    "import pandas as pd\n",
    "import patsy\n",
    "\n",
    "np.random.seed(999)\n",
    "\n",
    "x1 = 1 + 0.5 * np.random.randn(100)\n",
    "x2 = np.random.randn(100)\n",
    "noise = 0.1 * np.random.randn(100)\n",
    "\n",
    "y1 = 0.7 + 1.8 * x1 - 2.3 * x2 + noise\n",
    "\n",
    "x_df = pd.DataFrame({\"x1\": x1, \"x2\": x2})\n",
    "\n",
    "x_df = sm.add_constant(x_df)\n",
    "\n",
    "x_df.head()"
   ]
  },
  {
   "cell_type": "code",
   "execution_count": 2,
   "id": "ac55d81f",
   "metadata": {},
   "outputs": [
    {
     "data": {
      "text/plain": [
       "const    0.631782\n",
       "x1       1.842262\n",
       "x2      -2.322326\n",
       "dtype: float64"
      ]
     },
     "execution_count": 2,
     "metadata": {},
     "output_type": "execute_result"
    }
   ],
   "source": [
    "model = sm.OLS(y1, x_df)\n",
    "\n",
    "fitted = model.fit()\n",
    "\n",
    "fitted.params"
   ]
  },
  {
   "cell_type": "code",
   "execution_count": 3,
   "id": "184b5c1e",
   "metadata": {},
   "outputs": [
    {
     "data": {
      "text/html": [
       "<table class=\"simpletable\">\n",
       "<caption>OLS Regression Results</caption>\n",
       "<tr>\n",
       "  <th>Dep. Variable:</th>            <td>y</td>        <th>  R-squared:         </th> <td>   0.999</td> \n",
       "</tr>\n",
       "<tr>\n",
       "  <th>Model:</th>                   <td>OLS</td>       <th>  Adj. R-squared:    </th> <td>   0.999</td> \n",
       "</tr>\n",
       "<tr>\n",
       "  <th>Method:</th>             <td>Least Squares</td>  <th>  F-statistic:       </th> <td>3.406e+04</td>\n",
       "</tr>\n",
       "<tr>\n",
       "  <th>Date:</th>             <td>Tue, 30 Aug 2022</td> <th>  Prob (F-statistic):</th> <td>8.22e-139</td>\n",
       "</tr>\n",
       "<tr>\n",
       "  <th>Time:</th>                 <td>23:08:28</td>     <th>  Log-Likelihood:    </th> <td>  97.448</td> \n",
       "</tr>\n",
       "<tr>\n",
       "  <th>No. Observations:</th>      <td>   100</td>      <th>  AIC:               </th> <td>  -188.9</td> \n",
       "</tr>\n",
       "<tr>\n",
       "  <th>Df Residuals:</th>          <td>    97</td>      <th>  BIC:               </th> <td>  -181.1</td> \n",
       "</tr>\n",
       "<tr>\n",
       "  <th>Df Model:</th>              <td>     2</td>      <th>                     </th>     <td> </td>    \n",
       "</tr>\n",
       "<tr>\n",
       "  <th>Covariance Type:</th>      <td>nonrobust</td>    <th>                     </th>     <td> </td>    \n",
       "</tr>\n",
       "</table>\n",
       "<table class=\"simpletable\">\n",
       "<tr>\n",
       "    <td></td>       <th>coef</th>     <th>std err</th>      <th>t</th>      <th>P>|t|</th>  <th>[0.025</th>    <th>0.975]</th>  \n",
       "</tr>\n",
       "<tr>\n",
       "  <th>const</th> <td>    0.6318</td> <td>    0.023</td> <td>   27.508</td> <td> 0.000</td> <td>    0.586</td> <td>    0.677</td>\n",
       "</tr>\n",
       "<tr>\n",
       "  <th>x1</th>    <td>    1.8423</td> <td>    0.019</td> <td>   95.982</td> <td> 0.000</td> <td>    1.804</td> <td>    1.880</td>\n",
       "</tr>\n",
       "<tr>\n",
       "  <th>x2</th>    <td>   -2.3223</td> <td>    0.010</td> <td> -232.145</td> <td> 0.000</td> <td>   -2.342</td> <td>   -2.302</td>\n",
       "</tr>\n",
       "</table>\n",
       "<table class=\"simpletable\">\n",
       "<tr>\n",
       "  <th>Omnibus:</th>       <td> 4.255</td> <th>  Durbin-Watson:     </th> <td>   1.802</td>\n",
       "</tr>\n",
       "<tr>\n",
       "  <th>Prob(Omnibus):</th> <td> 0.119</td> <th>  Jarque-Bera (JB):  </th> <td>   3.608</td>\n",
       "</tr>\n",
       "<tr>\n",
       "  <th>Skew:</th>          <td>-0.376</td> <th>  Prob(JB):          </th> <td>   0.165</td>\n",
       "</tr>\n",
       "<tr>\n",
       "  <th>Kurtosis:</th>      <td> 3.548</td> <th>  Cond. No.          </th> <td>    4.83</td>\n",
       "</tr>\n",
       "</table><br/><br/>Notes:<br/>[1] Standard Errors assume that the covariance matrix of the errors is correctly specified."
      ],
      "text/plain": [
       "<class 'statsmodels.iolib.summary.Summary'>\n",
       "\"\"\"\n",
       "                            OLS Regression Results                            \n",
       "==============================================================================\n",
       "Dep. Variable:                      y   R-squared:                       0.999\n",
       "Model:                            OLS   Adj. R-squared:                  0.999\n",
       "Method:                 Least Squares   F-statistic:                 3.406e+04\n",
       "Date:                Tue, 30 Aug 2022   Prob (F-statistic):          8.22e-139\n",
       "Time:                        23:08:28   Log-Likelihood:                 97.448\n",
       "No. Observations:                 100   AIC:                            -188.9\n",
       "Df Residuals:                      97   BIC:                            -181.1\n",
       "Df Model:                           2                                         \n",
       "Covariance Type:            nonrobust                                         \n",
       "==============================================================================\n",
       "                 coef    std err          t      P>|t|      [0.025      0.975]\n",
       "------------------------------------------------------------------------------\n",
       "const          0.6318      0.023     27.508      0.000       0.586       0.677\n",
       "x1             1.8423      0.019     95.982      0.000       1.804       1.880\n",
       "x2            -2.3223      0.010   -232.145      0.000      -2.342      -2.302\n",
       "==============================================================================\n",
       "Omnibus:                        4.255   Durbin-Watson:                   1.802\n",
       "Prob(Omnibus):                  0.119   Jarque-Bera (JB):                3.608\n",
       "Skew:                          -0.376   Prob(JB):                        0.165\n",
       "Kurtosis:                       3.548   Cond. No.                         4.83\n",
       "==============================================================================\n",
       "\n",
       "Notes:\n",
       "[1] Standard Errors assume that the covariance matrix of the errors is correctly specified.\n",
       "\"\"\""
      ]
     },
     "execution_count": 3,
     "metadata": {},
     "output_type": "execute_result"
    }
   ],
   "source": [
    "fitted.summary()"
   ]
  },
  {
   "cell_type": "code",
   "execution_count": 4,
   "id": "54a629c1",
   "metadata": {},
   "outputs": [
    {
     "data": {
      "text/plain": [
       "0    0.631782\n",
       "1    0.151718\n",
       "2   -4.168859\n",
       "dtype: float64"
      ]
     },
     "execution_count": 4,
     "metadata": {},
     "output_type": "execute_result"
    }
   ],
   "source": [
    "fitted.predict(pd.DataFrame({'const': [1.0, 1.0, 1.0], 'x1': [0, 1, 10], 'x2': [0, 1, 10]}))"
   ]
  },
  {
   "cell_type": "code",
   "execution_count": 5,
   "id": "e40183d3",
   "metadata": {},
   "outputs": [
    {
     "data": {
      "text/plain": [
       "const    0.631782\n",
       "x1       1.842262\n",
       "x2      -2.322326\n",
       "dtype: float64"
      ]
     },
     "execution_count": 5,
     "metadata": {},
     "output_type": "execute_result"
    }
   ],
   "source": [
    "df_2 = x_df.copy()\n",
    "df_2['y1'] = y1\n",
    "\n",
    "model_2 = smf.ols('y1 ~ const + x1 + x2 + 0', data=df_2)\n",
    "\n",
    "model_2.fit().params"
   ]
  }
 ],
 "metadata": {
  "kernelspec": {
   "display_name": "Python 3 (ipykernel)",
   "language": "python",
   "name": "python3"
  },
  "language_info": {
   "codemirror_mode": {
    "name": "ipython",
    "version": 3
   },
   "file_extension": ".py",
   "mimetype": "text/x-python",
   "name": "python",
   "nbconvert_exporter": "python",
   "pygments_lexer": "ipython3",
   "version": "3.8.10"
  }
 },
 "nbformat": 4,
 "nbformat_minor": 5
}
