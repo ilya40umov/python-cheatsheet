{
 "cells": [
  {
   "cell_type": "markdown",
   "id": "e8b821c1",
   "metadata": {},
   "source": [
    "**Disclaimer:** This page is **not** a comprehensive reference of `numpy` library, it only covers a few parts of it."
   ]
  },
  {
   "cell_type": "code",
   "execution_count": 1,
   "id": "c3e70654",
   "metadata": {},
   "outputs": [],
   "source": [
    "import numpy as np"
   ]
  },
  {
   "cell_type": "code",
   "execution_count": 2,
   "id": "5b4c83e1",
   "metadata": {},
   "outputs": [
    {
     "name": "stdout",
     "output_type": "stream",
     "text": [
      "[5 6 7 8 9]\n",
      "1\n",
      "(5,)\n",
      "int64\n",
      "[0 0 0 8 9]\n"
     ]
    }
   ],
   "source": [
    "arr1 = np.arange(5, 10)\n",
    "\n",
    "print(arr1)\n",
    "print(arr1.ndim)\n",
    "print(arr1.shape)\n",
    "print(arr1.dtype)\n",
    "\n",
    "arr1[0:3] = 0\n",
    "print(arr1)"
   ]
  },
  {
   "cell_type": "code",
   "execution_count": 3,
   "id": "2572ab92",
   "metadata": {},
   "outputs": [
    {
     "data": {
      "text/plain": [
       "array([1, 2, 3])"
      ]
     },
     "execution_count": 3,
     "metadata": {},
     "output_type": "execute_result"
    }
   ],
   "source": [
    "np.array([1, 2, 3])"
   ]
  },
  {
   "cell_type": "code",
   "execution_count": 4,
   "id": "d7d9c84c",
   "metadata": {},
   "outputs": [
    {
     "data": {
      "text/plain": [
       "array([[1, 2, 3],\n",
       "       [4, 5, 6]])"
      ]
     },
     "execution_count": 4,
     "metadata": {},
     "output_type": "execute_result"
    }
   ],
   "source": [
    "np.array(((1, 2, 3), (4, 5, 6)))"
   ]
  },
  {
   "cell_type": "code",
   "execution_count": 5,
   "id": "7f38ec41",
   "metadata": {},
   "outputs": [
    {
     "data": {
      "text/plain": [
       "array([10.,  9.,  8.,  7.,  6.,  5.,  4.,  3.,  2.,  1.])"
      ]
     },
     "execution_count": 5,
     "metadata": {},
     "output_type": "execute_result"
    }
   ],
   "source": [
    "np.zeros(10) + np.ones(10) + np.arange(10, 0, -1) - 1"
   ]
  },
  {
   "cell_type": "code",
   "execution_count": 6,
   "id": "f4583ad8",
   "metadata": {},
   "outputs": [
    {
     "data": {
      "text/plain": [
       "array([[ 0.49671415, -0.1382643 ,  0.64768854,  1.52302986],\n",
       "       [-0.23415337, -0.23413696,  1.57921282,  0.76743473],\n",
       "       [-0.46947439,  0.54256004, -0.46341769, -0.46572975]])"
      ]
     },
     "execution_count": 6,
     "metadata": {},
     "output_type": "execute_result"
    }
   ],
   "source": [
    "np.random.seed(42)\n",
    "arr34 = np.random.randn(3, 4)\n",
    "arr34"
   ]
  },
  {
   "cell_type": "code",
   "execution_count": 7,
   "id": "96d2b0a8",
   "metadata": {},
   "outputs": [
    {
     "data": {
      "text/plain": [
       "array([[ 0.49671415, -0.1382643 ,  0.64768854],\n",
       "       [ 1.52302986, -0.23415337, -0.23413696],\n",
       "       [ 1.57921282,  0.76743473, -0.46947439],\n",
       "       [ 0.54256004, -0.46341769, -0.46572975]])"
      ]
     },
     "execution_count": 7,
     "metadata": {},
     "output_type": "execute_result"
    }
   ],
   "source": [
    "arr34.reshape(4, 3)"
   ]
  },
  {
   "cell_type": "code",
   "execution_count": 8,
   "id": "78326a4c",
   "metadata": {},
   "outputs": [
    {
     "data": {
      "text/plain": [
       "0.2959553058837369"
      ]
     },
     "execution_count": 8,
     "metadata": {},
     "output_type": "execute_result"
    }
   ],
   "source": [
    "np.mean(arr34)"
   ]
  },
  {
   "cell_type": "code",
   "execution_count": 9,
   "id": "d9ca393d",
   "metadata": {},
   "outputs": [
    {
     "data": {
      "text/plain": [
       "0.7125565880862972"
      ]
     },
     "execution_count": 9,
     "metadata": {},
     "output_type": "execute_result"
    }
   ],
   "source": [
    "np.std(arr34)"
   ]
  },
  {
   "cell_type": "code",
   "execution_count": 10,
   "id": "f87b9ebe",
   "metadata": {},
   "outputs": [
    {
     "data": {
      "text/plain": [
       "array([[ 0.49671415, -0.1382643 ,  0.64768854],\n",
       "       [-0.23415337, -0.23413696,  1.57921282],\n",
       "       [-0.46947439,  0.54256004, -0.46341769]])"
      ]
     },
     "execution_count": 10,
     "metadata": {},
     "output_type": "execute_result"
    }
   ],
   "source": [
    "matrix1 = arr34[:3,:3]\n",
    "matrix1"
   ]
  },
  {
   "cell_type": "code",
   "execution_count": 11,
   "id": "fcbae9e3",
   "metadata": {},
   "outputs": [
    {
     "data": {
      "text/plain": [
       "array([[ 0.49671415, -0.23415337, -0.46947439],\n",
       "       [-0.1382643 , -0.23413696,  0.54256004],\n",
       "       [ 0.64768854,  1.57921282, -0.46341769]])"
      ]
     },
     "execution_count": 11,
     "metadata": {},
     "output_type": "execute_result"
    }
   ],
   "source": [
    "matrix1.T"
   ]
  },
  {
   "cell_type": "code",
   "execution_count": 12,
   "id": "a94f6d1c",
   "metadata": {},
   "outputs": [
    {
     "data": {
      "text/plain": [
       "array([[ 0.68534241,  0.93890353, -0.60836159],\n",
       "       [ 0.93890353,  2.60356103, -0.74893951],\n",
       "       [-0.60836159, -0.74893951,  0.72953356]])"
      ]
     },
     "execution_count": 12,
     "metadata": {},
     "output_type": "execute_result"
    }
   ],
   "source": [
    "np.dot(matrix1, matrix1.T)"
   ]
  },
  {
   "cell_type": "code",
   "execution_count": 13,
   "id": "1318cff8",
   "metadata": {},
   "outputs": [
    {
     "data": {
      "text/plain": [
       "array([[False,  True, False],\n",
       "       [ True,  True, False],\n",
       "       [ True, False,  True]])"
      ]
     },
     "execution_count": 13,
     "metadata": {},
     "output_type": "execute_result"
    }
   ],
   "source": [
    "matrix1 < np.zeros(shape=(3, 3))"
   ]
  },
  {
   "cell_type": "code",
   "execution_count": 14,
   "id": "c1ec3360",
   "metadata": {},
   "outputs": [
    {
     "data": {
      "text/plain": [
       "array([-0.1382643 , -0.23415337, -0.23413696, -0.46947439, -0.46341769])"
      ]
     },
     "execution_count": 14,
     "metadata": {},
     "output_type": "execute_result"
    }
   ],
   "source": [
    "matrix1[matrix1 < 0]"
   ]
  },
  {
   "cell_type": "code",
   "execution_count": 15,
   "id": "51a828b3",
   "metadata": {},
   "outputs": [
    {
     "data": {
      "text/plain": [
       "array([-0.23415337, -0.46947439])"
      ]
     },
     "execution_count": 15,
     "metadata": {},
     "output_type": "execute_result"
    }
   ],
   "source": [
    "matrix1[matrix1[:, 0] < 0, 0]"
   ]
  },
  {
   "cell_type": "code",
   "execution_count": 16,
   "id": "f3cbd791",
   "metadata": {},
   "outputs": [
    {
     "name": "stdout",
     "output_type": "stream",
     "text": [
      "arr2 \n",
      " [[1 2 3]\n",
      " [4 5 6]\n",
      " [7 8 9]] \n",
      "\n",
      "arr2[0,0] \n",
      " 1 \n",
      "\n",
      "arr2[0,2] \n",
      " 3 \n",
      "\n",
      "arr2[2,0] \n",
      " 7 \n",
      "\n",
      "arr2[1:,:] \n",
      " [[1 2 3]] \n",
      "\n",
      "arr2[:,:1] \n",
      " [[1]\n",
      " [4]\n",
      " [7]] \n",
      "\n",
      "arr2[:2,1:] \n",
      " [[2 3]\n",
      " [5 6]] \n",
      "\n"
     ]
    }
   ],
   "source": [
    "arr2 = np.array([[1,2,3],[4,5,6],[7,8,9]])\n",
    "print(\"arr2\", \"\\n\", arr2, \"\\n\")\n",
    "print(\"arr2[0,0]\", \"\\n\", arr2[0,0], \"\\n\")\n",
    "print(\"arr2[0,2]\", \"\\n\", arr2[0,2], \"\\n\")\n",
    "print(\"arr2[2,0]\", \"\\n\", arr2[2,0], \"\\n\")\n",
    "print(\"arr2[1:,:]\", \"\\n\", arr2[:1,:], \"\\n\")\n",
    "print(\"arr2[:,:1]\", \"\\n\", arr2[:,:1], \"\\n\")\n",
    "print(\"arr2[:2,1:]\", \"\\n\", arr2[:2,1:], \"\\n\")"
   ]
  },
  {
   "cell_type": "code",
   "execution_count": 17,
   "id": "24cd0e3b",
   "metadata": {},
   "outputs": [
    {
     "data": {
      "text/plain": [
       "array([[ 0. ,  1. ,  4. ,  9. , 16. , 25. , 36. , 49. , 64. , 81. ],\n",
       "       [ 0. ,  1. ,  1.4,  1.7,  2. ,  2.2,  2.4,  2.6,  2.8,  3. ]])"
      ]
     },
     "execution_count": 17,
     "metadata": {},
     "output_type": "execute_result"
    }
   ],
   "source": [
    "np.array([\n",
    "    np.arange(0, 10) ** 2,\n",
    "    np.round(np.sqrt(np.arange(0, 10)), 1)\n",
    "])"
   ]
  },
  {
   "cell_type": "code",
   "execution_count": 18,
   "id": "ce23a7df",
   "metadata": {},
   "outputs": [
    {
     "name": "stdout",
     "output_type": "stream",
     "text": [
      "[0. 1. 1. 1. 1. 0. 0. 0. 0. 0. 1. 0.]\n",
      "[0. 1. 1. 1. 1. 0. 0. 0. 0. 0. 1. 0.]\n"
     ]
    }
   ],
   "source": [
    "np.random.seed(876)\n",
    "arr3 = np.random.rand(12)\n",
    "print(np.where(arr3 < 0.5, np.ones(12), np.zeros(12)))\n",
    "print(np.where(arr3 < 0.5, 1.0, 0.0))"
   ]
  },
  {
   "cell_type": "code",
   "execution_count": 19,
   "id": "4dcceff4",
   "metadata": {},
   "outputs": [
    {
     "name": "stdout",
     "output_type": "stream",
     "text": [
      "False\n",
      "True\n"
     ]
    }
   ],
   "source": [
    "print(np.where(arr3 < 0.5, True, False).all())\n",
    "print(np.where(arr3 < 0.5, True, False).any())"
   ]
  },
  {
   "cell_type": "code",
   "execution_count": 20,
   "id": "4e9461ba",
   "metadata": {},
   "outputs": [
    {
     "data": {
      "text/plain": [
       "[<matplotlib.lines.Line2D at 0x7f8f2f522a90>]"
      ]
     },
     "execution_count": 20,
     "metadata": {},
     "output_type": "execute_result"
    },
    {
     "data": {
      "image/png": "[encoded data removed]",
      "text/plain": [
       "<Figure size 432x288 with 1 Axes>"
      ]
     },
     "metadata": {
      "needs_background": "light"
     },
     "output_type": "display_data"
    }
   ],
   "source": [
    "import matplotlib.pyplot as plt\n",
    "\n",
    "np.random.seed(777)\n",
    "plt.plot(np.random.randn(100).cumsum(), color='green')"
   ]
  }
 ],
 "metadata": {
  "kernelspec": {
   "display_name": "Python 3 (ipykernel)",
   "language": "python",
   "name": "python3"
  },
  "language_info": {
   "codemirror_mode": {
    "name": "ipython",
    "version": 3
   },
   "file_extension": ".py",
   "mimetype": "text/x-python",
   "name": "python",
   "nbconvert_exporter": "python",
   "pygments_lexer": "ipython3",
   "version": "3.8.10"
  }
 },
 "nbformat": 4,
 "nbformat_minor": 5
}
