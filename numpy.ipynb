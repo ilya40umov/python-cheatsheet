{
 "cells": [
  {
   "cell_type": "code",
   "execution_count": 1,
   "id": "c406ac38",
   "metadata": {},
   "outputs": [],
   "source": [
    "import numpy as np\n",
    "np.random.seed(98765)"
   ]
  },
  {
   "cell_type": "code",
   "execution_count": 2,
   "id": "5b4c83e1",
   "metadata": {},
   "outputs": [
    {
     "name": "stdout",
     "output_type": "stream",
     "text": [
      "[5 6 7 8 9]\n",
      "1\n",
      "(5,)\n",
      "int64\n",
      "[0 0 0 8 9]\n"
     ]
    }
   ],
   "source": [
    "arr1 = np.arange(5, 10)\n",
    "\n",
    "print(arr1)\n",
    "print(arr1.ndim)\n",
    "print(arr1.shape)\n",
    "print(arr1.dtype)\n",
    "\n",
    "arr1[0:3] = 0\n",
    "print(arr1)"
   ]
  },
  {
   "cell_type": "code",
   "execution_count": 3,
   "id": "2572ab92",
   "metadata": {},
   "outputs": [
    {
     "data": {
      "text/plain": [
       "array([1, 2, 3])"
      ]
     },
     "execution_count": 3,
     "metadata": {},
     "output_type": "execute_result"
    }
   ],
   "source": [
    "np.array([1, 2, 3])"
   ]
  },
  {
   "cell_type": "code",
   "execution_count": 4,
   "id": "d7d9c84c",
   "metadata": {},
   "outputs": [
    {
     "data": {
      "text/plain": [
       "array([[1, 2, 3],\n",
       "       [4, 5, 6]])"
      ]
     },
     "execution_count": 4,
     "metadata": {},
     "output_type": "execute_result"
    }
   ],
   "source": [
    "np.array(((1, 2, 3), (4, 5, 6)))"
   ]
  },
  {
   "cell_type": "code",
   "execution_count": 5,
   "id": "7f38ec41",
   "metadata": {},
   "outputs": [
    {
     "data": {
      "text/plain": [
       "array([10.,  9.,  8.,  7.,  6.,  5.,  4.,  3.,  2.,  1.])"
      ]
     },
     "execution_count": 5,
     "metadata": {},
     "output_type": "execute_result"
    }
   ],
   "source": [
    "np.zeros(10) + np.ones(10) + np.arange(10, 0, -1) - 1"
   ]
  },
  {
   "cell_type": "code",
   "execution_count": 6,
   "id": "f4583ad8",
   "metadata": {},
   "outputs": [
    {
     "data": {
      "text/plain": [
       "array([[-0.6504417 ,  0.85034195,  1.0750099 , -1.79416571],\n",
       "       [ 0.9378183 , -0.75541276,  0.71758629,  1.02050263],\n",
       "       [ 0.96599959, -0.04178252, -0.06769879,  0.80568588]])"
      ]
     },
     "execution_count": 6,
     "metadata": {},
     "output_type": "execute_result"
    }
   ],
   "source": [
    "np.random.randn(3, 4)"
   ]
  },
  {
   "cell_type": "code",
   "execution_count": 7,
   "id": "96d2b0a8",
   "metadata": {},
   "outputs": [
    {
     "data": {
      "text/plain": [
       "array([[0.79113127, 0.27496235, 0.58493699, 0.27509728],\n",
       "       [0.52817509, 0.72574116, 0.64882384, 0.95133298],\n",
       "       [0.56060354, 0.66623899, 0.36475457, 0.72420426]])"
      ]
     },
     "execution_count": 7,
     "metadata": {},
     "output_type": "execute_result"
    }
   ],
   "source": [
    "np.random.rand(12).reshape(3, 4)"
   ]
  },
  {
   "cell_type": "code",
   "execution_count": 8,
   "id": "78326a4c",
   "metadata": {},
   "outputs": [
    {
     "data": {
      "text/plain": [
       "0.0004852266173761474"
      ]
     },
     "execution_count": 8,
     "metadata": {},
     "output_type": "execute_result"
    }
   ],
   "source": [
    "np.mean(np.random.randn(1000000))"
   ]
  },
  {
   "cell_type": "code",
   "execution_count": 9,
   "id": "d9ca393d",
   "metadata": {},
   "outputs": [
    {
     "data": {
      "text/plain": [
       "0.9996945027901621"
      ]
     },
     "execution_count": 9,
     "metadata": {},
     "output_type": "execute_result"
    }
   ],
   "source": [
    "np.std(np.random.randn(1000000))"
   ]
  },
  {
   "cell_type": "code",
   "execution_count": 10,
   "id": "f87b9ebe",
   "metadata": {},
   "outputs": [
    {
     "data": {
      "text/plain": [
       "array([[ True, False, False],\n",
       "       [ True,  True,  True],\n",
       "       [False, False, False]])"
      ]
     },
     "execution_count": 10,
     "metadata": {},
     "output_type": "execute_result"
    }
   ],
   "source": [
    "np.random.randn(3, 3) < np.zeros(shape=(3, 3))"
   ]
  },
  {
   "cell_type": "code",
   "execution_count": 11,
   "id": "f3cbd791",
   "metadata": {},
   "outputs": [
    {
     "name": "stdout",
     "output_type": "stream",
     "text": [
      "source \n",
      " [[1 2 3]\n",
      " [4 5 6]\n",
      " [7 8 9]]\n",
      "[0,0] \n",
      " 1\n",
      "[0,2] \n",
      " 3\n",
      "[2,0] \n",
      " 7\n",
      "[1:,:] \n",
      " [[1 2 3]]\n",
      "[:,:1] \n",
      " [[1]\n",
      " [4]\n",
      " [7]]\n",
      "[:2,1:] \n",
      " [[2 3]\n",
      " [5 6]]\n"
     ]
    }
   ],
   "source": [
    "arr2 = np.array([[1,2,3],[4,5,6],[7,8,9]])\n",
    "print(\"source\", \"\\n\", arr2)\n",
    "print(\"[0,0]\", \"\\n\", arr2[0,0])\n",
    "print(\"[0,2]\", \"\\n\", arr2[0,2])\n",
    "print(\"[2,0]\", \"\\n\", arr2[2,0])\n",
    "print(\"[1:,:]\", \"\\n\", arr2[:1,:])\n",
    "print(\"[:,:1]\", \"\\n\", arr2[:,:1])\n",
    "print(\"[:2,1:]\", \"\\n\", arr2[:2,1:])"
   ]
  }
 ],
 "metadata": {
  "kernelspec": {
   "display_name": "Python 3 (ipykernel)",
   "language": "python",
   "name": "python3"
  },
  "language_info": {
   "codemirror_mode": {
    "name": "ipython",
    "version": 3
   },
   "file_extension": ".py",
   "mimetype": "text/x-python",
   "name": "python",
   "nbconvert_exporter": "python",
   "pygments_lexer": "ipython3",
   "version": "3.8.10"
  }
 },
 "nbformat": 4,
 "nbformat_minor": 5
}
