{
 "cells": [
  {
   "cell_type": "code",
   "execution_count": 1,
   "id": "57f376fe",
   "metadata": {},
   "outputs": [],
   "source": [
    "import numpy as np\n",
    "import patsy\n",
    "\n",
    "np.random.seed(777)\n",
    "\n",
    "x0 = np.arange(0, 5, step=0.05)\n",
    "y0 = 1.1 * np.sin(x0) + 4.2 + np.random.randn(x0.shape[0])\n",
    "\n",
    "y, X = patsy.dmatrices('y0 ~ np.sin(x0)', {'x0': x0, 'y0': y0})"
   ]
  },
  {
   "cell_type": "code",
   "execution_count": 2,
   "id": "c3ef1a42",
   "metadata": {},
   "outputs": [
    {
     "data": {
      "text/plain": [
       "DesignMatrix with shape (100, 1)\n",
       "       y0\n",
       "  3.73179\n",
       "  3.43215\n",
       "  4.24444\n",
       "  3.65102\n",
       "  5.32489\n",
       "  5.23838\n",
       "  5.35113\n",
       "  3.25350\n",
       "  2.87592\n",
       "  5.68091\n",
       "  5.27218\n",
       "  6.67012\n",
       "  4.05175\n",
       "  3.46261\n",
       "  4.27617\n",
       "  4.39093\n",
       "  3.75586\n",
       "  4.58690\n",
       "  5.97645\n",
       "  5.35980\n",
       "  3.74225\n",
       "  5.83968\n",
       "  5.63642\n",
       "  4.74267\n",
       "  5.31994\n",
       "  3.70107\n",
       "  7.73928\n",
       "  5.73016\n",
       "  4.97012\n",
       "  5.31302\n",
       "  [70 rows omitted]\n",
       "  Terms:\n",
       "    'y0' (column 0)\n",
       "  (to view full data, use np.asarray(this_obj))"
      ]
     },
     "execution_count": 2,
     "metadata": {},
     "output_type": "execute_result"
    }
   ],
   "source": [
    "y"
   ]
  },
  {
   "cell_type": "code",
   "execution_count": 3,
   "id": "98be2475",
   "metadata": {},
   "outputs": [
    {
     "data": {
      "text/plain": [
       "DesignMatrix with shape (100, 2)\n",
       "  Intercept  np.sin(x0)\n",
       "          1     0.00000\n",
       "          1     0.04998\n",
       "          1     0.09983\n",
       "          1     0.14944\n",
       "          1     0.19867\n",
       "          1     0.24740\n",
       "          1     0.29552\n",
       "          1     0.34290\n",
       "          1     0.38942\n",
       "          1     0.43497\n",
       "          1     0.47943\n",
       "          1     0.52269\n",
       "          1     0.56464\n",
       "          1     0.60519\n",
       "          1     0.64422\n",
       "          1     0.68164\n",
       "          1     0.71736\n",
       "          1     0.75128\n",
       "          1     0.78333\n",
       "          1     0.81342\n",
       "          1     0.84147\n",
       "          1     0.86742\n",
       "          1     0.89121\n",
       "          1     0.91276\n",
       "          1     0.93204\n",
       "          1     0.94898\n",
       "          1     0.96356\n",
       "          1     0.97572\n",
       "          1     0.98545\n",
       "          1     0.99271\n",
       "  [70 rows omitted]\n",
       "  Terms:\n",
       "    'Intercept' (column 0)\n",
       "    'np.sin(x0)' (column 1)\n",
       "  (to view full data, use np.asarray(this_obj))"
      ]
     },
     "execution_count": 3,
     "metadata": {},
     "output_type": "execute_result"
    }
   ],
   "source": [
    "X"
   ]
  },
  {
   "cell_type": "code",
   "execution_count": 4,
   "id": "12c6d7e5",
   "metadata": {},
   "outputs": [
    {
     "data": {
      "text/plain": [
       "array([[4.20372188],\n",
       "       [1.12250622]])"
      ]
     },
     "execution_count": 4,
     "metadata": {},
     "output_type": "execute_result"
    }
   ],
   "source": [
    "coef, _, _, _ = np.linalg.lstsq(X, y, rcond=None)\n",
    "\n",
    "coef"
   ]
  },
  {
   "cell_type": "code",
   "execution_count": 5,
   "id": "368637c8",
   "metadata": {},
   "outputs": [
    {
     "data": {
      "text/plain": [
       "DesignMatrix with shape (100, 2)\n",
       "  Intercept  np.sin(x0)\n",
       "          1    -0.95892\n",
       "          1    -0.94355\n",
       "          1    -0.92581\n",
       "          1    -0.90577\n",
       "          1    -0.88345\n",
       "          1    -0.85893\n",
       "          1    -0.83227\n",
       "          1    -0.80352\n",
       "          1    -0.77276\n",
       "          1    -0.74008\n",
       "          1    -0.70554\n",
       "          1    -0.66924\n",
       "          1    -0.63127\n",
       "          1    -0.59172\n",
       "          1    -0.55069\n",
       "          1    -0.50828\n",
       "          1    -0.46460\n",
       "          1    -0.41976\n",
       "          1    -0.37388\n",
       "          1    -0.32705\n",
       "          1    -0.27942\n",
       "          1    -0.23108\n",
       "          1    -0.18216\n",
       "          1    -0.13279\n",
       "          1    -0.08309\n",
       "          1    -0.03318\n",
       "          1     0.01681\n",
       "          1     0.06676\n",
       "          1     0.11655\n",
       "          1     0.16604\n",
       "  [70 rows omitted]\n",
       "  Terms:\n",
       "    'Intercept' (column 0)\n",
       "    'np.sin(x0)' (column 1)\n",
       "  (to view full data, use np.asarray(this_obj))"
      ]
     },
     "execution_count": 5,
     "metadata": {},
     "output_type": "execute_result"
    }
   ],
   "source": [
    "x0_ext = np.arange(5, 10, step=0.05)\n",
    "X_ext, = patsy.build_design_matrices([X.design_info], {'x0': x0_ext})\n",
    "\n",
    "X_ext"
   ]
  },
  {
   "cell_type": "code",
   "execution_count": 6,
   "id": "7fbecf21",
   "metadata": {},
   "outputs": [
    {
     "data": {
      "image/png": "[encoded data removed]",
      "text/plain": [
       "<Figure size 432x288 with 1 Axes>"
      ]
     },
     "metadata": {
      "needs_background": "light"
     },
     "output_type": "display_data"
    }
   ],
   "source": [
    "import matplotlib.pyplot as plt\n",
    "\n",
    "plt.xlim([0, 10])\n",
    "plt.scatter(x0, y0)\n",
    "plt.plot(x0, np.dot(X, coef), color='red')\n",
    "plt.plot(x0_ext, np.dot(X_ext, coef), color='green')\n",
    "plt.show()"
   ]
  },
  {
   "cell_type": "code",
   "execution_count": 7,
   "id": "e4e1d775",
   "metadata": {},
   "outputs": [
    {
     "data": {
      "text/plain": [
       "DesignMatrix with shape (100, 4)\n",
       "  x2[a]  x2[b]  x2[c]    x1\n",
       "      1      0      0  0.00\n",
       "      0      0      1  0.05\n",
       "      0      1      0  0.10\n",
       "      0      1      0  0.15\n",
       "      0      0      1  0.20\n",
       "      1      0      0  0.25\n",
       "      0      0      1  0.30\n",
       "      0      1      0  0.35\n",
       "      0      1      0  0.40\n",
       "      0      0      1  0.45\n",
       "      0      1      0  0.50\n",
       "      1      0      0  0.55\n",
       "      0      0      1  0.60\n",
       "      0      0      1  0.65\n",
       "      0      0      1  0.70\n",
       "      1      0      0  0.75\n",
       "      0      0      1  0.80\n",
       "      1      0      0  0.85\n",
       "      0      0      1  0.90\n",
       "      0      0      1  0.95\n",
       "      1      0      0  1.00\n",
       "      1      0      0  1.05\n",
       "      0      1      0  1.10\n",
       "      0      0      1  1.15\n",
       "      1      0      0  1.20\n",
       "      0      1      0  1.25\n",
       "      0      1      0  1.30\n",
       "      0      1      0  1.35\n",
       "      0      1      0  1.40\n",
       "      0      0      1  1.45\n",
       "  [70 rows omitted]\n",
       "  Terms:\n",
       "    'x2' (columns 0:3)\n",
       "    'x1' (column 3)\n",
       "  (to view full data, use np.asarray(this_obj))"
      ]
     },
     "execution_count": 7,
     "metadata": {},
     "output_type": "execute_result"
    }
   ],
   "source": [
    "import pandas as pd\n",
    "\n",
    "np.random.seed(888)\n",
    "\n",
    "x1 = np.arange(0, 5, step=0.05)\n",
    "x2 = np.repeat([\"a\", \"b\", \"c\"], 100)\n",
    "np.random.shuffle(x2)\n",
    "x2 = x2[:100]\n",
    "\n",
    "y1 = 1.1 * x1 * 0.3 + \\\n",
    "    np.where(x2 == \"a\", 1, 0) + \\\n",
    "    np.where(x2 == \"b\", 3, 0) + \\\n",
    "    np.where(x2 == \"c\", 7, 0) + \\\n",
    "    np.random.randn(x1.shape[0]) * 0.5\n",
    "\n",
    "df = pd.DataFrame({\"x1\": x1, \"x2\": x2, \"y1\": y1})\n",
    "\n",
    "yy, XX = patsy.dmatrices('y1 ~ x1 + x2 + 0', df)\n",
    "\n",
    "XX"
   ]
  },
  {
   "cell_type": "code",
   "execution_count": 8,
   "id": "f667325c",
   "metadata": {},
   "outputs": [
    {
     "data": {
      "text/plain": [
       "array([[0.9847538 ],\n",
       "       [2.80548018],\n",
       "       [6.91408127],\n",
       "       [0.3674121 ]])"
      ]
     },
     "execution_count": 8,
     "metadata": {},
     "output_type": "execute_result"
    }
   ],
   "source": [
    "coef2, _, _, _ = np.linalg.lstsq(XX, yy, rcond=None)\n",
    "\n",
    "coef2"
   ]
  },
  {
   "cell_type": "code",
   "execution_count": 9,
   "id": "62d555c1",
   "metadata": {},
   "outputs": [
    {
     "data": {
      "image/png": "[encoded data removed]",
      "text/plain": [
       "<Figure size 432x288 with 1 Axes>"
      ]
     },
     "metadata": {
      "needs_background": "light"
     },
     "output_type": "display_data"
    }
   ],
   "source": [
    "import matplotlib.pyplot as plt\n",
    "\n",
    "color_map = {'a': 'red', 'b': 'green', 'c': 'yellow'}\n",
    "\n",
    "plt.scatter(x1, y1, c=[color_map[v] for v in x2])\n",
    "plt.scatter(x1, np.dot(XX, coef2), color='blue')\n",
    "plt.show()"
   ]
  },
  {
   "cell_type": "code",
   "execution_count": 10,
   "id": "d13ba4a5",
   "metadata": {},
   "outputs": [
    {
     "data": {
      "image/png": "[encoded data removed]",
      "text/plain": [
       "<Figure size 432x288 with 1 Axes>"
      ]
     },
     "metadata": {
      "needs_background": "light"
     },
     "output_type": "display_data"
    }
   ],
   "source": [
    "import seaborn as sns\n",
    "\n",
    "sns.scatterplot(x=x1, y=y1, hue=x2)\n",
    "plt.show()"
   ]
  }
 ],
 "metadata": {
  "kernelspec": {
   "display_name": "Python 3 (ipykernel)",
   "language": "python",
   "name": "python3"
  },
  "language_info": {
   "codemirror_mode": {
    "name": "ipython",
    "version": 3
   },
   "file_extension": ".py",
   "mimetype": "text/x-python",
   "name": "python",
   "nbconvert_exporter": "python",
   "pygments_lexer": "ipython3",
   "version": "3.8.10"
  }
 },
 "nbformat": 4,
 "nbformat_minor": 5
}
