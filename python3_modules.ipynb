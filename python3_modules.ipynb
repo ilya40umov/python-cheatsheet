{
 "cells": [
  {
   "cell_type": "markdown",
   "id": "4d7e3d78",
   "metadata": {},
   "source": [
    "**Disclaimer:** This page is **not** a comprehensive reference. It only covers particular parts of certain modules that may come in handy."
   ]
  },
  {
   "cell_type": "markdown",
   "id": "6e9ca7b0",
   "metadata": {},
   "source": [
    "#### collections"
   ]
  },
  {
   "cell_type": "code",
   "execution_count": 1,
   "id": "1de10f87",
   "metadata": {},
   "outputs": [
    {
     "name": "stdout",
     "output_type": "stream",
     "text": [
      "42\n"
     ]
    }
   ],
   "source": [
    "from collections import defaultdict\n",
    "\n",
    "print(defaultdict(lambda: \"42\")['key'])"
   ]
  },
  {
   "cell_type": "markdown",
   "id": "640fc0c4",
   "metadata": {},
   "source": [
    "#### itertools"
   ]
  },
  {
   "cell_type": "code",
   "execution_count": 2,
   "id": "0736dbfa",
   "metadata": {},
   "outputs": [
    {
     "name": "stdout",
     "output_type": "stream",
     "text": [
      "[(1, 2), (1, 3), (2, 3)]\n",
      "[(1, 2), (1, 3), (2, 1), (2, 3), (3, 1), (3, 2)]\n"
     ]
    }
   ],
   "source": [
    "import itertools\n",
    "\n",
    "print(list(itertools.combinations([1, 2, 3], 2)))\n",
    "print(list(itertools.permutations([1, 2, 3], 2)))"
   ]
  },
  {
   "cell_type": "markdown",
   "id": "0d2f8754",
   "metadata": {},
   "source": [
    "#### re"
   ]
  },
  {
   "cell_type": "code",
   "execution_count": 3,
   "id": "deb6683f",
   "metadata": {},
   "outputs": [
    {
     "name": "stdout",
     "output_type": "stream",
     "text": [
      "abcde\n"
     ]
    }
   ],
   "source": [
    "import re\n",
    "\n",
    "regex = re.compile(\"\\\\s+\")\n",
    "\n",
    "print(re.sub(regex, \"\", \" ab  c d \\ne\"))"
   ]
  },
  {
   "cell_type": "markdown",
   "id": "bcc0c105",
   "metadata": {},
   "source": [
    "#### os"
   ]
  },
  {
   "cell_type": "code",
   "execution_count": 4,
   "id": "cd446ec8",
   "metadata": {},
   "outputs": [
    {
     "name": "stdout",
     "output_type": "stream",
     "text": [
      "/bin/bash\n",
      "True\n"
     ]
    }
   ],
   "source": [
    "import os\n",
    "\n",
    "print(os.environ['SHELL'])\n",
    "print(os.path.exists(f\"{os.environ['HOME']}\"))"
   ]
  },
  {
   "cell_type": "markdown",
   "id": "b9caa354",
   "metadata": {},
   "source": [
    "#### sys"
   ]
  },
  {
   "cell_type": "code",
   "execution_count": 5,
   "id": "6de661a5",
   "metadata": {},
   "outputs": [
    {
     "name": "stdout",
     "output_type": "stream",
     "text": [
      "3\n"
     ]
    }
   ],
   "source": [
    "import sys\n",
    "\n",
    "print(len(sys.argv))"
   ]
  },
  {
   "cell_type": "markdown",
   "id": "71cb9acc",
   "metadata": {},
   "source": [
    "#### datetime"
   ]
  },
  {
   "cell_type": "code",
   "execution_count": 6,
   "id": "5f0512fe",
   "metadata": {},
   "outputs": [
    {
     "name": "stdout",
     "output_type": "stream",
     "text": [
      "2022-08-08\n",
      "2022-08-08 18:39:07.573404\n",
      "18:39:07.573459\n",
      "2022-01-01 00:00:01\n",
      "08/08/2022 18:39\n",
      "219 days, 18:39:06.573609\n"
     ]
    }
   ],
   "source": [
    "import datetime\n",
    "\n",
    "print(datetime.date.today())\n",
    "print(datetime.datetime.now())\n",
    "print(datetime.datetime.now().time())\n",
    "print(datetime.datetime(2022, 1, 1, 0, 0, 1))\n",
    "print(datetime.datetime.now().strftime('%m/%d/%Y %H:%M'))\n",
    "print(datetime.datetime.now() - datetime.datetime(2022, 1, 1, 0, 0, 1))"
   ]
  },
  {
   "cell_type": "markdown",
   "id": "0d8c8708",
   "metadata": {},
   "source": [
    "#### json"
   ]
  },
  {
   "cell_type": "code",
   "execution_count": 7,
   "id": "4687936c",
   "metadata": {},
   "outputs": [
    {
     "name": "stdout",
     "output_type": "stream",
     "text": [
      "{'key': 'value'}\n",
      "{\"key\": \"value\"}\n"
     ]
    }
   ],
   "source": [
    "import json\n",
    "\n",
    "print(json.loads('{\"key\": \"value\"}'))\n",
    "print(json.dumps({'key': 'value'}))"
   ]
  },
  {
   "cell_type": "markdown",
   "id": "fc6f6c7d",
   "metadata": {},
   "source": [
    "#### bisect"
   ]
  },
  {
   "cell_type": "code",
   "execution_count": 8,
   "id": "cd9dd4fc",
   "metadata": {},
   "outputs": [
    {
     "data": {
      "text/plain": [
       "[1, 2, 3, 3.5, 4, 5]"
      ]
     },
     "execution_count": 8,
     "metadata": {},
     "output_type": "execute_result"
    }
   ],
   "source": [
    "import bisect\n",
    "\n",
    "a = [1, 2, 3, 4, 5]\n",
    "bisect.insort(a, 3.5)\n",
    "a"
   ]
  },
  {
   "cell_type": "markdown",
   "id": "902344ab",
   "metadata": {},
   "source": [
    "#### statistics"
   ]
  },
  {
   "cell_type": "code",
   "execution_count": 9,
   "id": "6f8fcf28",
   "metadata": {},
   "outputs": [
    {
     "name": "stdout",
     "output_type": "stream",
     "text": [
      "0\n",
      "1.5811388300841898\n",
      "0\n",
      "2.0\n"
     ]
    }
   ],
   "source": [
    "import statistics\n",
    "\n",
    "rand_vals = [-2, -1, 0, 1, 2]\n",
    "print(statistics.mean(rand_vals))\n",
    "print(statistics.stdev(rand_vals))\n",
    "print(statistics.median(rand_vals))\n",
    "print(statistics.quantiles(rand_vals * 200, n=100)[98])"
   ]
  }
 ],
 "metadata": {
  "kernelspec": {
   "display_name": "Python 3 (ipykernel)",
   "language": "python",
   "name": "python3"
  },
  "language_info": {
   "codemirror_mode": {
    "name": "ipython",
    "version": 3
   },
   "file_extension": ".py",
   "mimetype": "text/x-python",
   "name": "python",
   "nbconvert_exporter": "python",
   "pygments_lexer": "ipython3",
   "version": "3.8.10"
  }
 },
 "nbformat": 4,
 "nbformat_minor": 5
}
