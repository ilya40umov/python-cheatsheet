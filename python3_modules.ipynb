{
 "cells": [
  {
   "cell_type": "markdown",
   "id": "4d7e3d78",
   "metadata": {},
   "source": [
    "**Disclaimer:** This page is **not** a comprehensive reference. It only covers particular parts of certain modules that may come in handy."
   ]
  },
  {
   "cell_type": "markdown",
   "id": "6e9ca7b0",
   "metadata": {},
   "source": [
    "#### collections"
   ]
  },
  {
   "cell_type": "code",
   "execution_count": 1,
   "id": "1de10f87",
   "metadata": {},
   "outputs": [
    {
     "name": "stdout",
     "output_type": "stream",
     "text": [
      "42\n"
     ]
    }
   ],
   "source": [
    "from collections import defaultdict\n",
    "\n",
    "print(defaultdict(lambda: \"42\")['key'])"
   ]
  },
  {
   "cell_type": "markdown",
   "id": "640fc0c4",
   "metadata": {},
   "source": [
    "#### itertools"
   ]
  },
  {
   "cell_type": "code",
   "execution_count": 2,
   "id": "0736dbfa",
   "metadata": {},
   "outputs": [
    {
     "name": "stdout",
     "output_type": "stream",
     "text": [
      "[(1, 2), (1, 3), (2, 3)]\n",
      "[(1, 2), (1, 3), (2, 1), (2, 3), (3, 1), (3, 2)]\n"
     ]
    }
   ],
   "source": [
    "import itertools\n",
    "\n",
    "print(list(itertools.combinations([1, 2, 3], 2)))\n",
    "print(list(itertools.permutations([1, 2, 3], 2)))"
   ]
  },
  {
   "cell_type": "code",
   "execution_count": 3,
   "id": "e2e13a54",
   "metadata": {},
   "outputs": [
    {
     "data": {
      "text/plain": [
       "[1, 1, 4, 27, 256, 3125, 46656, 823543, 16777216, 387420489]"
      ]
     },
     "execution_count": 3,
     "metadata": {},
     "output_type": "execute_result"
    }
   ],
   "source": [
    "gen1 = (x ** x for x in range(10000000))\n",
    "list(itertools.islice(gen1, 10))"
   ]
  },
  {
   "cell_type": "markdown",
   "id": "0d2f8754",
   "metadata": {},
   "source": [
    "#### re"
   ]
  },
  {
   "cell_type": "code",
   "execution_count": 4,
   "id": "deb6683f",
   "metadata": {},
   "outputs": [
    {
     "name": "stdout",
     "output_type": "stream",
     "text": [
      "abcde\n"
     ]
    }
   ],
   "source": [
    "import re\n",
    "\n",
    "regex = re.compile(\"\\\\s+\")\n",
    "\n",
    "print(re.sub(regex, \"\", \" ab  c d \\ne\"))"
   ]
  },
  {
   "cell_type": "markdown",
   "id": "bcc0c105",
   "metadata": {},
   "source": [
    "#### os"
   ]
  },
  {
   "cell_type": "code",
   "execution_count": 5,
   "id": "cd446ec8",
   "metadata": {},
   "outputs": [
    {
     "name": "stdout",
     "output_type": "stream",
     "text": [
      "/bin/bash\n",
      "True\n"
     ]
    }
   ],
   "source": [
    "import os\n",
    "\n",
    "print(os.environ['SHELL'])\n",
    "print(os.path.exists(f\"{os.environ['HOME']}\"))"
   ]
  },
  {
   "cell_type": "markdown",
   "id": "b9caa354",
   "metadata": {},
   "source": [
    "#### sys"
   ]
  },
  {
   "cell_type": "code",
   "execution_count": 6,
   "id": "6de661a5",
   "metadata": {},
   "outputs": [
    {
     "name": "stdout",
     "output_type": "stream",
     "text": [
      "3\n"
     ]
    }
   ],
   "source": [
    "import sys\n",
    "\n",
    "print(len(sys.argv))"
   ]
  },
  {
   "cell_type": "markdown",
   "id": "71cb9acc",
   "metadata": {},
   "source": [
    "#### datetime"
   ]
  },
  {
   "cell_type": "code",
   "execution_count": 7,
   "id": "5f0512fe",
   "metadata": {},
   "outputs": [
    {
     "name": "stdout",
     "output_type": "stream",
     "text": [
      "2022-01-01 00:00:01\n",
      "01/01/2022 00:00\n",
      "245 days, 0:00:00\n"
     ]
    }
   ],
   "source": [
    "import datetime\n",
    "\n",
    "# datetime.date.today() - get today's date\n",
    "# datetime.datetime.now() - get today's date & time\n",
    "# datetime.datetime.now().time() - get current time\n",
    "\n",
    "dt1 = datetime.datetime(2022, 1, 1, 0, 0, 1)\n",
    "\n",
    "print(dt1)\n",
    "print(dt1.strftime('%m/%d/%Y %H:%M'))\n",
    "print(dt1 - datetime.datetime(2021, 5, 1, 0, 0, 1))"
   ]
  },
  {
   "cell_type": "markdown",
   "id": "0d8c8708",
   "metadata": {},
   "source": [
    "#### json"
   ]
  },
  {
   "cell_type": "code",
   "execution_count": 8,
   "id": "4687936c",
   "metadata": {},
   "outputs": [
    {
     "name": "stdout",
     "output_type": "stream",
     "text": [
      "{'key': 'value'}\n",
      "{\"key\": \"value\"}\n"
     ]
    }
   ],
   "source": [
    "import json\n",
    "\n",
    "print(json.loads('{\"key\": \"value\"}'))\n",
    "print(json.dumps({'key': 'value'}))"
   ]
  },
  {
   "cell_type": "markdown",
   "id": "fc6f6c7d",
   "metadata": {},
   "source": [
    "#### bisect"
   ]
  },
  {
   "cell_type": "code",
   "execution_count": 9,
   "id": "cd9dd4fc",
   "metadata": {},
   "outputs": [
    {
     "data": {
      "text/plain": [
       "[1, 2, 3, 3.5, 4, 5]"
      ]
     },
     "execution_count": 9,
     "metadata": {},
     "output_type": "execute_result"
    }
   ],
   "source": [
    "import bisect\n",
    "\n",
    "a = [1, 2, 3, 4, 5]\n",
    "bisect.insort(a, 3.5)\n",
    "a"
   ]
  },
  {
   "cell_type": "markdown",
   "id": "902344ab",
   "metadata": {},
   "source": [
    "#### statistics"
   ]
  },
  {
   "cell_type": "code",
   "execution_count": 10,
   "id": "6f8fcf28",
   "metadata": {},
   "outputs": [
    {
     "name": "stdout",
     "output_type": "stream",
     "text": [
      "0\n",
      "1.5811388300841898\n",
      "0\n",
      "2.0\n"
     ]
    }
   ],
   "source": [
    "import statistics\n",
    "\n",
    "rand_vals = [-2, -1, 0, 1, 2]\n",
    "print(statistics.mean(rand_vals))\n",
    "print(statistics.stdev(rand_vals))\n",
    "print(statistics.median(rand_vals))\n",
    "print(statistics.quantiles(rand_vals * 200, n=100)[98])"
   ]
  },
  {
   "cell_type": "markdown",
   "id": "72770fba",
   "metadata": {},
   "source": [
    "**logging**"
   ]
  },
  {
   "cell_type": "code",
   "execution_count": 11,
   "id": "6d44e9ef",
   "metadata": {},
   "outputs": [
    {
     "name": "stderr",
     "output_type": "stream",
     "text": [
      "WARNING:root:Attention!\n",
      "Hey!\n"
     ]
    }
   ],
   "source": [
    "import logging\n",
    "\n",
    "logging.warning(\"Attention!\")\n",
    "logging.Logger(\"logger1\").warning(\"Hey!\")"
   ]
  },
  {
   "cell_type": "markdown",
   "id": "2690562b",
   "metadata": {},
   "source": [
    "**uuid**"
   ]
  },
  {
   "cell_type": "code",
   "execution_count": 12,
   "id": "a283919e",
   "metadata": {},
   "outputs": [
    {
     "data": {
      "text/plain": [
       "UUID('461eb7f8-1dc4-4342-ab0a-d12784b592e5')"
      ]
     },
     "execution_count": 12,
     "metadata": {},
     "output_type": "execute_result"
    }
   ],
   "source": [
    "import uuid\n",
    "\n",
    "# uuid.uuid4() allows to get a random one\n",
    "uuid.UUID('461eb7f8-1dc4-4342-ab0a-d12784b592e5')"
   ]
  },
  {
   "cell_type": "markdown",
   "id": "99689ce0",
   "metadata": {},
   "source": [
    "**pickle**"
   ]
  },
  {
   "cell_type": "code",
   "execution_count": 13,
   "id": "f9dabe52",
   "metadata": {},
   "outputs": [
    {
     "name": "stdout",
     "output_type": "stream",
     "text": [
      "b'\\x80\\x04\\x95\\x0b\\x00\\x00\\x00\\x00\\x00\\x00\\x00]\\x94(K\\x01K\\x02K\\x03e.'\n",
      "[1, 2, 3]\n"
     ]
    }
   ],
   "source": [
    "import pickle\n",
    "\n",
    "binary_arr = pickle.dumps([1, 2, 3])\n",
    "print(binary_arr)\n",
    "\n",
    "arr = pickle.loads(binary_arr)\n",
    "print(arr)"
   ]
  },
  {
   "cell_type": "markdown",
   "id": "9a18f5b8",
   "metadata": {},
   "source": [
    "**copy**"
   ]
  },
  {
   "cell_type": "code",
   "execution_count": 14,
   "id": "97cee707",
   "metadata": {},
   "outputs": [
    {
     "name": "stdout",
     "output_type": "stream",
     "text": [
      "[1, 3, [111]]\n",
      "[1, 2, 3, [111]]\n",
      "[1, 2, 3, [42]]\n"
     ]
    }
   ],
   "source": [
    "import copy\n",
    "\n",
    "arr0 = [42]\n",
    "arr1 = [1, 2, 3, arr0]\n",
    "arr2 = copy.copy(arr1)\n",
    "arr3 = copy.deepcopy(arr1)\n",
    "\n",
    "arr0[0] = 111\n",
    "arr1.remove(2)\n",
    "\n",
    "print(arr1)\n",
    "print(arr2)\n",
    "print(arr3)"
   ]
  }
 ],
 "metadata": {
  "kernelspec": {
   "display_name": "Python 3 (ipykernel)",
   "language": "python",
   "name": "python3"
  },
  "language_info": {
   "codemirror_mode": {
    "name": "ipython",
    "version": 3
   },
   "file_extension": ".py",
   "mimetype": "text/x-python",
   "name": "python",
   "nbconvert_exporter": "python",
   "pygments_lexer": "ipython3",
   "version": "3.8.10"
  }
 },
 "nbformat": 4,
 "nbformat_minor": 5
}
